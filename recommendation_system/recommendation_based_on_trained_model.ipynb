{
 "cells": [
  {
   "cell_type": "code",
   "execution_count": 1,
   "metadata": {},
   "outputs": [],
   "source": [
    "from sklearn.externals import joblib\n",
    "algo_items = joblib.load(\"train_model.m\")"
   ]
  },
  {
   "cell_type": "code",
   "execution_count": 10,
   "metadata": {},
   "outputs": [],
   "source": [
    "def get_item_recommendations(anime_title, anime_id=100000, k=10):\n",
    "    if anime_id == 100000:     \n",
    "        anime_id = animes[animes['title'] == anime_title]['anime_id'].iloc[0]\n",
    "        \n",
    "    iid = algo_items.trainset.to_inner_iid(anime_id)\n",
    "    neighbors = algo_items.get_neighbors(iid, k=k)\n",
    "    raw_neighbors = (algo.trainset.to_raw_iid(inner_id) for inner_id in neighbors)\n",
    "    print(list(raw_neighbors))\n",
    "    df = pd.DataFrame(raw_neighbors, columns = ['Anime_ID'])\n",
    "    df = pd.merge(df, animes, left_on = 'Anime_ID', right_on = 'anime_id', how = 'left')\n",
    "    return df[['Anime_ID', 'title', 'genre']]"
   ]
  },
  {
   "cell_type": "code",
   "execution_count": 11,
   "metadata": {},
   "outputs": [],
   "source": [
    "algo = joblib.load(\"train_model_algo.m\")"
   ]
  },
  {
   "cell_type": "code",
   "execution_count": 12,
   "metadata": {},
   "outputs": [
    {
     "name": "stdout",
     "output_type": "stream",
     "text": [
      "[205.0, 6.0, 227.0, 43.0, 47.0, 5, 245.0, 889.0, 1519.0, 527.0]\n"
     ]
    },
    {
     "data": {
      "text/html": [
       "<div>\n",
       "<style scoped>\n",
       "    .dataframe tbody tr th:only-of-type {\n",
       "        vertical-align: middle;\n",
       "    }\n",
       "\n",
       "    .dataframe tbody tr th {\n",
       "        vertical-align: top;\n",
       "    }\n",
       "\n",
       "    .dataframe thead th {\n",
       "        text-align: right;\n",
       "    }\n",
       "</style>\n",
       "<table border=\"1\" class=\"dataframe\">\n",
       "  <thead>\n",
       "    <tr style=\"text-align: right;\">\n",
       "      <th></th>\n",
       "      <th>Anime_ID</th>\n",
       "      <th>title</th>\n",
       "      <th>genre</th>\n",
       "    </tr>\n",
       "  </thead>\n",
       "  <tbody>\n",
       "  </tbody>\n",
       "</table>\n",
       "</div>"
      ],
      "text/plain": [
       "Empty DataFrame\n",
       "Columns: [Anime_ID, title, genre]\n",
       "Index: []"
      ]
     },
     "execution_count": 12,
     "metadata": {},
     "output_type": "execute_result"
    }
   ],
   "source": [
    "import pandas as pd\n",
    "animes = pd.read_csv('anime_cleaned.csv')\n",
    "get_item_recommendations('Cowboy Bebop', k=10)"
   ]
  },
  {
   "cell_type": "code",
   "execution_count": 13,
   "metadata": {},
   "outputs": [],
   "source": [
    "# get_anime_from_id\n",
    "def get_item_from_id(anime_id, k=10):\n",
    "    iid = algo_items.trainset.to_inner_iid(anime_id)\n",
    "    neighbors = algo_items.get_neighbors(iid, k=k)\n",
    "    raw_neighbors = (algo.trainset.to_raw_iid(inner_id) for inner_id in neighbors)\n",
    "    return list(raw_neighbors)"
   ]
  },
  {
   "cell_type": "code",
   "execution_count": 14,
   "metadata": {},
   "outputs": [
    {
     "data": {
      "text/plain": [
       "[205.0, 6.0, 227.0, 43.0, 47.0, 5, 245.0, 889.0, 1519.0, 527.0]"
      ]
     },
     "execution_count": 14,
     "metadata": {},
     "output_type": "execute_result"
    }
   ],
   "source": [
    "get_item_from_id(1, k=10)"
   ]
  },
  {
   "cell_type": "code",
   "execution_count": null,
   "metadata": {},
   "outputs": [],
   "source": []
  }
 ],
 "metadata": {
  "kernelspec": {
   "display_name": "Python 3",
   "language": "python",
   "name": "python3"
  },
  "language_info": {
   "codemirror_mode": {
    "name": "ipython",
    "version": 3
   },
   "file_extension": ".py",
   "mimetype": "text/x-python",
   "name": "python",
   "nbconvert_exporter": "python",
   "pygments_lexer": "ipython3",
   "version": "3.7.4"
  }
 },
 "nbformat": 4,
 "nbformat_minor": 2
}
