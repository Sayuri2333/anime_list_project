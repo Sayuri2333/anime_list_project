{
 "cells": [
  {
   "cell_type": "code",
   "execution_count": 8,
   "metadata": {},
   "outputs": [],
   "source": [
    "from sklearn.externals import joblib\n",
    "algo_items = joblib.load(\"train_model.m\")"
   ]
  },
  {
   "cell_type": "code",
   "execution_count": 9,
   "metadata": {},
   "outputs": [],
   "source": [
    "def get_item_recommendations(anime_title, anime_id=100000, k=10):\n",
    "    if anime_id == 100000:     \n",
    "        anime_id = animes[animes['title'] == anime_title]['anime_id'].iloc[0]\n",
    "        \n",
    "    iid = algo_items.trainset.to_inner_iid(anime_id)\n",
    "    neighbors = algo_items.get_neighbors(iid, k=k)\n",
    "    raw_neighbors = (algo.trainset.to_raw_iid(inner_id) for inner_id in neighbors)\n",
    "    df = pd.DataFrame(raw_neighbors, columns = ['Anime_ID'])\n",
    "    df = pd.merge(df, animes, left_on = 'Anime_ID', right_on = 'anime_id', how = 'left')\n",
    "    return df[['Anime_ID', 'title', 'genre']]"
   ]
  },
  {
   "cell_type": "code",
   "execution_count": 10,
   "metadata": {},
   "outputs": [],
   "source": [
    "algo = joblib.load(\"train_model_algo.m\")"
   ]
  },
  {
   "cell_type": "code",
   "execution_count": 12,
   "metadata": {},
   "outputs": [
    {
     "data": {
      "text/html": [
       "<div>\n",
       "<style scoped>\n",
       "    .dataframe tbody tr th:only-of-type {\n",
       "        vertical-align: middle;\n",
       "    }\n",
       "\n",
       "    .dataframe tbody tr th {\n",
       "        vertical-align: top;\n",
       "    }\n",
       "\n",
       "    .dataframe thead th {\n",
       "        text-align: right;\n",
       "    }\n",
       "</style>\n",
       "<table border=\"1\" class=\"dataframe\">\n",
       "  <thead>\n",
       "    <tr style=\"text-align: right;\">\n",
       "      <th></th>\n",
       "      <th>Anime_ID</th>\n",
       "      <th>title</th>\n",
       "      <th>genre</th>\n",
       "    </tr>\n",
       "  </thead>\n",
       "  <tbody>\n",
       "    <tr>\n",
       "      <th>0</th>\n",
       "      <td>11741.0</td>\n",
       "      <td>Fate/Zero 2nd Season</td>\n",
       "      <td>Action, Supernatural, Magic, Fantasy</td>\n",
       "    </tr>\n",
       "    <tr>\n",
       "      <th>1</th>\n",
       "      <td>10087.0</td>\n",
       "      <td>Fate/Zero</td>\n",
       "      <td>Action, Supernatural, Magic, Fantasy</td>\n",
       "    </tr>\n",
       "    <tr>\n",
       "      <th>2</th>\n",
       "      <td>22297.0</td>\n",
       "      <td>Fate/stay night: Unlimited Blade Works</td>\n",
       "      <td>Action, Supernatural, Magic, Fantasy</td>\n",
       "    </tr>\n",
       "    <tr>\n",
       "      <th>3</th>\n",
       "      <td>10620.0</td>\n",
       "      <td>Mirai Nikki (TV)</td>\n",
       "      <td>Action, Psychological, Supernatural, Thriller,...</td>\n",
       "    </tr>\n",
       "    <tr>\n",
       "      <th>4</th>\n",
       "      <td>30276.0</td>\n",
       "      <td>One Punch Man</td>\n",
       "      <td>Action, Sci-Fi, Comedy, Parody, Super Power, S...</td>\n",
       "    </tr>\n",
       "    <tr>\n",
       "      <th>5</th>\n",
       "      <td>17074.0</td>\n",
       "      <td>Monogatari Series: Second Season</td>\n",
       "      <td>Mystery, Comedy, Supernatural, Romance, Vampire</td>\n",
       "    </tr>\n",
       "    <tr>\n",
       "      <th>6</th>\n",
       "      <td>10863.0</td>\n",
       "      <td>Steins;Gate: Oukoubakko no Poriomania</td>\n",
       "      <td>Sci-Fi, Comedy, Thriller</td>\n",
       "    </tr>\n",
       "    <tr>\n",
       "      <th>7</th>\n",
       "      <td>15117.0</td>\n",
       "      <td>Kami nomi zo Shiru Sekai: Tenri-hen</td>\n",
       "      <td>Comedy, Harem, Romance, Supernatural, Shounen</td>\n",
       "    </tr>\n",
       "    <tr>\n",
       "      <th>8</th>\n",
       "      <td>9756.0</td>\n",
       "      <td>Mahou Shoujo Madoka★Magica</td>\n",
       "      <td>Drama, Magic, Psychological, Thriller</td>\n",
       "    </tr>\n",
       "    <tr>\n",
       "      <th>9</th>\n",
       "      <td>15323.0</td>\n",
       "      <td>One Piece: Episode of Nami - Koukaishi no Nami...</td>\n",
       "      <td>Action, Adventure, Comedy, Drama, Fantasy, Sho...</td>\n",
       "    </tr>\n",
       "  </tbody>\n",
       "</table>\n",
       "</div>"
      ],
      "text/plain": [
       "   Anime_ID                                              title  \\\n",
       "0   11741.0                               Fate/Zero 2nd Season   \n",
       "1   10087.0                                          Fate/Zero   \n",
       "2   22297.0             Fate/stay night: Unlimited Blade Works   \n",
       "3   10620.0                                   Mirai Nikki (TV)   \n",
       "4   30276.0                                      One Punch Man   \n",
       "5   17074.0                   Monogatari Series: Second Season   \n",
       "6   10863.0              Steins;Gate: Oukoubakko no Poriomania   \n",
       "7   15117.0                Kami nomi zo Shiru Sekai: Tenri-hen   \n",
       "8    9756.0                         Mahou Shoujo Madoka★Magica   \n",
       "9   15323.0  One Piece: Episode of Nami - Koukaishi no Nami...   \n",
       "\n",
       "                                               genre  \n",
       "0               Action, Supernatural, Magic, Fantasy  \n",
       "1               Action, Supernatural, Magic, Fantasy  \n",
       "2               Action, Supernatural, Magic, Fantasy  \n",
       "3  Action, Psychological, Supernatural, Thriller,...  \n",
       "4  Action, Sci-Fi, Comedy, Parody, Super Power, S...  \n",
       "5    Mystery, Comedy, Supernatural, Romance, Vampire  \n",
       "6                           Sci-Fi, Comedy, Thriller  \n",
       "7      Comedy, Harem, Romance, Supernatural, Shounen  \n",
       "8              Drama, Magic, Psychological, Thriller  \n",
       "9  Action, Adventure, Comedy, Drama, Fantasy, Sho...  "
      ]
     },
     "execution_count": 12,
     "metadata": {},
     "output_type": "execute_result"
    }
   ],
   "source": [
    "import pandas as pd\n",
    "animes = pd.read_csv('anime_cleaned.csv')\n",
    "get_item_recommendations('Steins;Gate', k=10)"
   ]
  },
  {
   "cell_type": "code",
   "execution_count": null,
   "metadata": {},
   "outputs": [],
   "source": []
  }
 ],
 "metadata": {
  "kernelspec": {
   "display_name": "Python 3",
   "language": "python",
   "name": "python3"
  },
  "language_info": {
   "codemirror_mode": {
    "name": "ipython",
    "version": 3
   },
   "file_extension": ".py",
   "mimetype": "text/x-python",
   "name": "python",
   "nbconvert_exporter": "python",
   "pygments_lexer": "ipython3",
   "version": "3.6.6"
  }
 },
 "nbformat": 4,
 "nbformat_minor": 2
}
