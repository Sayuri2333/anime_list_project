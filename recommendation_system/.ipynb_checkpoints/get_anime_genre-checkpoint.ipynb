{
 "cells": [
  {
   "cell_type": "code",
   "execution_count": 18,
   "metadata": {},
   "outputs": [
    {
     "data": {
      "text/plain": [
       "{'request_hash': 'request:anime:d6092f2422f084452c84555f17c7ba047e6998d3',\n",
       " 'request_cached': True,\n",
       " 'request_cache_expiry': 8629,\n",
       " 'mal_id': 1,\n",
       " 'url': 'https://myanimelist.net/anime/1/Cowboy_Bebop',\n",
       " 'image_url': 'https://cdn.myanimelist.net/images/anime/4/19644.jpg',\n",
       " 'trailer_url': 'https://www.youtube.com/embed/qig4KOK2R2g?enablejsapi=1&wmode=opaque&autoplay=1',\n",
       " 'title': 'Cowboy Bebop',\n",
       " 'title_english': 'Cowboy Bebop',\n",
       " 'title_japanese': 'カウボーイビバップ',\n",
       " 'title_synonyms': [],\n",
       " 'type': 'TV',\n",
       " 'source': 'Original',\n",
       " 'episodes': 26,\n",
       " 'status': 'Finished Airing',\n",
       " 'airing': False,\n",
       " 'aired': {'from': '1998-04-03T00:00:00+00:00',\n",
       "  'to': '1999-04-24T00:00:00+00:00',\n",
       "  'prop': {'from': {'day': 3, 'month': 4, 'year': 1998},\n",
       "   'to': {'day': 24, 'month': 4, 'year': 1999}},\n",
       "  'string': 'Apr 3, 1998 to Apr 24, 1999'},\n",
       " 'duration': '24 min per ep',\n",
       " 'rating': 'R - 17+ (violence & profanity)',\n",
       " 'score': 8.82,\n",
       " 'scored_by': 423204,\n",
       " 'rank': 28,\n",
       " 'popularity': 38,\n",
       " 'members': 836232,\n",
       " 'favorites': 45322,\n",
       " 'synopsis': 'In the year 2071, humanity has colonized several of the planets and moons of the solar system leaving the now uninhabitable surface of planet Earth behind. The Inter Solar System Police attempts to keep peace in the galaxy, aided in part by outlaw bounty hunters, referred to as \"Cowboys.\" The ragtag team aboard the spaceship Bebop are two such individuals. Mellow and carefree Spike Spiegel is balanced by his boisterous, pragmatic partner Jet Black as the pair makes a living chasing bounties and collecting rewards. Thrown off course by the addition of new members that they meet in their travels—Ein, a genetically engineered, highly intelligent Welsh Corgi; femme fatale Faye Valentine, an enigmatic trickster with memory loss; and the strange computer whiz kid Edward Wong—the crew embarks on thrilling adventures that unravel each member\\'s dark and mysterious past little by little. Well-balanced with high density action and light-hearted comedy, Cowboy Bebop is a space Western classic and an homage to the smooth and improvised music it is named after. [Written by MAL Rewrite]',\n",
       " 'background': 'When Cowboy Bebop first aired in spring of 1998 on TV Tokyo, only episodes 2, 3, 7-15, and 18 were broadcast, it was concluded with a recap special known as Yose Atsume Blues. This was due to anime censorship having increased following the big controversies over Evangelion, as a result most of the series was pulled from the air due to violent content. Satellite channel WOWOW picked up the series in the fall of that year and aired it in its entirety uncensored. Cowboy Bebop was not a ratings hit in Japan, but sold over 19,000 DVD units in the initial release run, and 81,000 overall. Protagonist Spike Spiegel won Best Male Character, and Megumi Hayashibara won Best Voice Actor for her role as Faye Valentine in the 1999 and 2000 Anime Grand Prix, respectively.Cowboy Bebop\\'s biggest influence has been in the United States, where it premiered on Adult Swim in 2001 with many reruns since. The show\\'s heavy Western influence struck a chord with American viewers, where it became a \"gateway drug\" to anime aimed at adult audiences.',\n",
       " 'premiered': 'Spring 1998',\n",
       " 'broadcast': 'Saturdays at 01:00 (JST)',\n",
       " 'related': {'Adaptation': [{'mal_id': 173,\n",
       "    'type': 'manga',\n",
       "    'name': 'Cowboy Bebop',\n",
       "    'url': 'https://myanimelist.net/manga/173/Cowboy_Bebop'},\n",
       "   {'mal_id': 174,\n",
       "    'type': 'manga',\n",
       "    'name': 'Shooting Star Bebop: Cowboy Bebop',\n",
       "    'url': 'https://myanimelist.net/manga/174/Shooting_Star_Bebop__Cowboy_Bebop'}],\n",
       "  'Side story': [{'mal_id': 5,\n",
       "    'type': 'anime',\n",
       "    'name': 'Cowboy Bebop: Tengoku no Tobira',\n",
       "    'url': 'https://myanimelist.net/anime/5/Cowboy_Bebop__Tengoku_no_Tobira'},\n",
       "   {'mal_id': 17205,\n",
       "    'type': 'anime',\n",
       "    'name': 'Cowboy Bebop: Ein no Natsuyasumi',\n",
       "    'url': 'https://myanimelist.net/anime/17205/Cowboy_Bebop__Ein_no_Natsuyasumi'}],\n",
       "  'Summary': [{'mal_id': 4037,\n",
       "    'type': 'anime',\n",
       "    'name': 'Cowboy Bebop: Yose Atsume Blues',\n",
       "    'url': 'https://myanimelist.net/anime/4037/Cowboy_Bebop__Yose_Atsume_Blues'}]},\n",
       " 'producers': [{'mal_id': 23,\n",
       "   'type': 'anime',\n",
       "   'name': 'Bandai Visual',\n",
       "   'url': 'https://myanimelist.net/anime/producer/23/Bandai_Visual'}],\n",
       " 'licensors': [{'mal_id': 102,\n",
       "   'type': 'anime',\n",
       "   'name': 'Funimation',\n",
       "   'url': 'https://myanimelist.net/anime/producer/102/Funimation'},\n",
       "  {'mal_id': 233,\n",
       "   'type': 'anime',\n",
       "   'name': 'Bandai Entertainment',\n",
       "   'url': 'https://myanimelist.net/anime/producer/233/Bandai_Entertainment'}],\n",
       " 'studios': [{'mal_id': 14,\n",
       "   'type': 'anime',\n",
       "   'name': 'Sunrise',\n",
       "   'url': 'https://myanimelist.net/anime/producer/14/Sunrise'}],\n",
       " 'genres': [{'mal_id': 1,\n",
       "   'type': 'anime',\n",
       "   'name': 'Action',\n",
       "   'url': 'https://myanimelist.net/anime/genre/1/Action'},\n",
       "  {'mal_id': 2,\n",
       "   'type': 'anime',\n",
       "   'name': 'Adventure',\n",
       "   'url': 'https://myanimelist.net/anime/genre/2/Adventure'},\n",
       "  {'mal_id': 4,\n",
       "   'type': 'anime',\n",
       "   'name': 'Comedy',\n",
       "   'url': 'https://myanimelist.net/anime/genre/4/Comedy'},\n",
       "  {'mal_id': 8,\n",
       "   'type': 'anime',\n",
       "   'name': 'Drama',\n",
       "   'url': 'https://myanimelist.net/anime/genre/8/Drama'},\n",
       "  {'mal_id': 24,\n",
       "   'type': 'anime',\n",
       "   'name': 'Sci-Fi',\n",
       "   'url': 'https://myanimelist.net/anime/genre/24/Sci-Fi'},\n",
       "  {'mal_id': 29,\n",
       "   'type': 'anime',\n",
       "   'name': 'Space',\n",
       "   'url': 'https://myanimelist.net/anime/genre/29/Space'}],\n",
       " 'opening_themes': ['\"Tank!\" by The Seatbelts (eps 1-25)'],\n",
       " 'ending_themes': ['\"The Real Folk Blues\" by The Seatbelts feat. Mai Yamane (eps 1-12, 14-25)',\n",
       "  '\"Space Lion\" by The Seatbelts (ep 13)',\n",
       "  '\"Blue\" by The Seatbelts feat. Mai Yamane (ep 26)']}"
      ]
     },
     "execution_count": 18,
     "metadata": {},
     "output_type": "execute_result"
    }
   ],
   "source": [
    "import requests\n",
    "from bs4 import BeautifulSoup\n",
    "import time\n",
    "from urllib import parse\n",
    "import hashlib\n",
    "from requests.adapters import HTTPAdapter\n",
    "from requests.packages.urllib3.util.retry import Retry\n",
    "import time\n",
    "import datetime\n",
    "import traceback\n",
    "\n",
    "requests.adapters.DEFAULT_RETRIES = 5 # 增加重连次数\n",
    "s = requests.session()\n",
    "headers = {'User-Agent':'Mozilla/5.0 (Windows NT 6.1) AppleWebKit/537.11 (KHTML, like Gecko) Chrome/23.0.1271.64 Safari/537.11',\n",
    "'Accept':'text/html;q=0.9,*/*;q=0.8',\n",
    "'Accept-Charset':'ISO-8859-1,utf-8;q=0.7,*;q=0.3',\n",
    "'Accept-Encoding':'gzip',\n",
    "'Connection':'close',\n",
    "'Authorization': 'Basic {base64(757139408@qq.com:wsrfhyki)}'\n",
    "}\n",
    "\n",
    "html = s.get(\"https://api.jikan.moe/v3/anime/1/\", headers=headers).json()\n",
    "html"
   ]
  },
  {
   "cell_type": "code",
   "execution_count": 21,
   "metadata": {},
   "outputs": [
    {
     "data": {
      "text/plain": [
       "['Action', 'Adventure', 'Comedy', 'Drama', 'Sci-Fi', 'Space']"
      ]
     },
     "execution_count": 21,
     "metadata": {},
     "output_type": "execute_result"
    }
   ],
   "source": [
    "genres = []\n",
    "for i in html['genres']:\n",
    "    genres.append(i['name'])\n",
    "genres"
   ]
  },
  {
   "cell_type": "code",
   "execution_count": 26,
   "metadata": {},
   "outputs": [
    {
     "data": {
      "text/plain": [
       "{'Action': 1, 'Adventure': 1, 'Comedy': 1, 'Drama': 1, 'Sci-Fi': 1, 'Space': 1}"
      ]
     },
     "execution_count": 26,
     "metadata": {},
     "output_type": "execute_result"
    }
   ],
   "source": [
    "from collections import defaultdict\n",
    "counter = {}\n",
    "for i in html['genres']:\n",
    "    counter[i['name']] = counter.setdefault(i['name'], 0) + 1\n",
    "counter"
   ]
  },
  {
   "cell_type": "code",
   "execution_count": 34,
   "metadata": {},
   "outputs": [],
   "source": [
    "def get_genre(anime_ids):\n",
    "    if anime_ids is None:\n",
    "        return None;\n",
    "    else:\n",
    "        animelists = anime_ids.split(';')[:-1]\n",
    "        animelists = [int(x) for x in animelists]\n",
    "        s = requests.session()\n",
    "        url_pattern = \"https://api.jikan.moe/v3/anime/{}\"\n",
    "        counts = {}\n",
    "        for i in animelists:\n",
    "            print(i)\n",
    "            url = url_pattern.format(i)\n",
    "            html = s.get(url).json()\n",
    "            for genre in html['genres']:\n",
    "                counts[genre['name']] = counts.setdefault(genre['name'], 0) + 1\n",
    "        return jsonify(counts)"
   ]
  },
  {
   "cell_type": "code",
   "execution_count": 35,
   "metadata": {},
   "outputs": [
    {
     "name": "stdout",
     "output_type": "stream",
     "text": [
      "1\n",
      "5114\n"
     ]
    },
    {
     "ename": "NameError",
     "evalue": "name 'jsonify' is not defined",
     "output_type": "error",
     "traceback": [
      "\u001b[1;31m---------------------------------------------------------------------------\u001b[0m",
      "\u001b[1;31mNameError\u001b[0m                                 Traceback (most recent call last)",
      "\u001b[1;32m<ipython-input-35-635de46b722a>\u001b[0m in \u001b[0;36m<module>\u001b[1;34m\u001b[0m\n\u001b[1;32m----> 1\u001b[1;33m \u001b[0mget_genre\u001b[0m\u001b[1;33m(\u001b[0m\u001b[1;34m\"1;5114;\"\u001b[0m\u001b[1;33m)\u001b[0m\u001b[1;33m\u001b[0m\u001b[1;33m\u001b[0m\u001b[0m\n\u001b[0m",
      "\u001b[1;32m<ipython-input-34-edb9d119d6c1>\u001b[0m in \u001b[0;36mget_genre\u001b[1;34m(anime_ids)\u001b[0m\n\u001b[0;32m     14\u001b[0m             \u001b[1;32mfor\u001b[0m \u001b[0mgenre\u001b[0m \u001b[1;32min\u001b[0m \u001b[0mhtml\u001b[0m\u001b[1;33m[\u001b[0m\u001b[1;34m'genres'\u001b[0m\u001b[1;33m]\u001b[0m\u001b[1;33m:\u001b[0m\u001b[1;33m\u001b[0m\u001b[1;33m\u001b[0m\u001b[0m\n\u001b[0;32m     15\u001b[0m                 \u001b[0mcounts\u001b[0m\u001b[1;33m[\u001b[0m\u001b[0mgenre\u001b[0m\u001b[1;33m[\u001b[0m\u001b[1;34m'name'\u001b[0m\u001b[1;33m]\u001b[0m\u001b[1;33m]\u001b[0m \u001b[1;33m=\u001b[0m \u001b[0mcounts\u001b[0m\u001b[1;33m.\u001b[0m\u001b[0msetdefault\u001b[0m\u001b[1;33m(\u001b[0m\u001b[0mgenre\u001b[0m\u001b[1;33m[\u001b[0m\u001b[1;34m'name'\u001b[0m\u001b[1;33m]\u001b[0m\u001b[1;33m,\u001b[0m \u001b[1;36m0\u001b[0m\u001b[1;33m)\u001b[0m \u001b[1;33m+\u001b[0m \u001b[1;36m1\u001b[0m\u001b[1;33m\u001b[0m\u001b[1;33m\u001b[0m\u001b[0m\n\u001b[1;32m---> 16\u001b[1;33m         \u001b[1;32mreturn\u001b[0m \u001b[0mjsonify\u001b[0m\u001b[1;33m(\u001b[0m\u001b[0mcounts\u001b[0m\u001b[1;33m)\u001b[0m\u001b[1;33m\u001b[0m\u001b[1;33m\u001b[0m\u001b[0m\n\u001b[0m",
      "\u001b[1;31mNameError\u001b[0m: name 'jsonify' is not defined"
     ]
    }
   ],
   "source": [
    "get_genre(\"1;5114;\")"
   ]
  },
  {
   "cell_type": "code",
   "execution_count": 43,
   "metadata": {},
   "outputs": [
    {
     "data": {
      "text/plain": [
       "{'lists': [{'name': 'Adventure', 'value': 3},\n",
       "  {'name': 'Action', 'value': 4},\n",
       "  {'name': 'Parody', 'value': 1},\n",
       "  {'name': 'Military', 'value': 1},\n",
       "  {'name': 'Comedy', 'value': 3},\n",
       "  {'name': 'Drama', 'value': 2},\n",
       "  {'name': 'Historical', 'value': 1},\n",
       "  {'name': 'Thriller', 'value': 1},\n",
       "  {'name': 'Samurai', 'value': 1},\n",
       "  {'name': 'Fantasy', 'value': 2},\n",
       "  {'name': 'Super Power', 'value': 1},\n",
       "  {'name': 'Magic', 'value': 1},\n",
       "  {'name': 'Shounen', 'value': 3},\n",
       "  {'name': 'Sci-Fi', 'value': 3},\n",
       "  {'name': 'Space', 'value': 1}]}"
      ]
     },
     "execution_count": 43,
     "metadata": {},
     "output_type": "execute_result"
    }
   ],
   "source": [
    "html = s.get(\"http://118.27.27.84:5000/genres/1;5114;9253;28977;11061;/\", headers=headers).json()\n",
    "html"
   ]
  },
  {
   "cell_type": "code",
   "execution_count": null,
   "metadata": {},
   "outputs": [],
   "source": []
  }
 ],
 "metadata": {
  "kernelspec": {
   "display_name": "Python 3",
   "language": "python",
   "name": "python3"
  },
  "language_info": {
   "codemirror_mode": {
    "name": "ipython",
    "version": 3
   },
   "file_extension": ".py",
   "mimetype": "text/x-python",
   "name": "python",
   "nbconvert_exporter": "python",
   "pygments_lexer": "ipython3",
   "version": "3.7.3"
  }
 },
 "nbformat": 4,
 "nbformat_minor": 2
}
